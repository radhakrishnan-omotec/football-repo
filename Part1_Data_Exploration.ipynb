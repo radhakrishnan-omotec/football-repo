{
  "nbformat": 4,
  "nbformat_minor": 0,
  "metadata": {
    "colab": {
      "provenance": [],
      "authorship_tag": "ABX9TyPzyQdY9r0i+2yNojl6Vunf",
      "include_colab_link": true
    },
    "kernelspec": {
      "name": "python3",
      "display_name": "Python 3"
    },
    "language_info": {
      "name": "python"
    }
  },
  "cells": [
    {
      "cell_type": "markdown",
      "metadata": {
        "id": "view-in-github",
        "colab_type": "text"
      },
      "source": [
        "<a href=\"https://colab.research.google.com/github/radhakrishnan-omotec/football-repo/blob/main/Part1_Data_Exploration.ipynb\" target=\"_parent\"><img src=\"https://colab.research.google.com/assets/colab-badge.svg\" alt=\"Open In Colab\"/></a>"
      ]
    },
    {
      "cell_type": "markdown",
      "source": [
        "# Data Exploration\n",
        "Before we get into building our xG model, we need to consider what sort of data we are interested in. Obviously, we need a large collection of shot data but more importantly we need the data to describe the type of shots that result in goals. We can deduce that the most important factors we need would be the distance from goal when the shot was taken, the angle with respect to the goal and what part of the body the shot was taken with.\n"
      ],
      "metadata": {
        "id": "t9PGgKKbRfeM"
      }
    },
    {
      "cell_type": "code",
      "source": [
        "!git clone https://github.com/radhakrishnan-omotec/football-repo.git"
      ],
      "metadata": {
        "colab": {
          "base_uri": "https://localhost:8080/"
        },
        "id": "5ey5WMz9SHIg",
        "outputId": "feef81f1-7b3b-4b9b-87f7-64b22d25f667"
      },
      "execution_count": 2,
      "outputs": [
        {
          "output_type": "stream",
          "name": "stdout",
          "text": [
            "Cloning into 'football-repo'...\n",
            "remote: Enumerating objects: 24, done.\u001b[K\n",
            "remote: Counting objects: 100% (24/24), done.\u001b[K\n",
            "remote: Compressing objects: 100% (23/23), done.\u001b[K\n",
            "remote: Total 24 (delta 7), reused 0 (delta 0), pack-reused 0\u001b[K\n",
            "Receiving objects: 100% (24/24), 940.73 KiB | 10.69 MiB/s, done.\n",
            "Resolving deltas: 100% (7/7), done.\n"
          ]
        }
      ]
    },
    {
      "cell_type": "code",
      "source": [
        "import pandas as pd\n",
        "import numpy as np\n",
        "import os\n",
        "import json\n",
        "import requests  # Added for downloading dataset\n",
        "from urllib.parse import urlparse  # Added for parsing URL\n",
        "import seaborn as sns\n",
        "import matplotlib.pyplot as plt\n",
        "from matplotlib.patches import Arc"
      ],
      "metadata": {
        "id": "53Oww9NQRqZs"
      },
      "execution_count": 1,
      "outputs": []
    },
    {
      "cell_type": "code",
      "execution_count": 9,
      "metadata": {
        "colab": {
          "base_uri": "https://localhost:8080/"
        },
        "id": "i1HHtD3hRZtT",
        "outputId": "0b5ae326-cdcf-48f6-ad99-ca2a650df1a0"
      },
      "outputs": [
        {
          "output_type": "stream",
          "name": "stdout",
          "text": [
            "['/content/football-repo/dataset/event_data/events.zip']\n"
          ]
        }
      ],
      "source": [
        "# Function to download dataset from URL and save it to the specified path\n",
        "def download_dataset(url, save_path):\n",
        "    response = requests.get(url)\n",
        "    with open(save_path, 'wb') as file:\n",
        "        file.write(response.content)\n",
        "\n",
        "# Specify the URL and save path\n",
        "dataset_url = \"https://figshare.com/ndownloader/files/14464685\"\n",
        "save_path = \"/content/football-repo/dataset/event_data/events.zip\"\n",
        "\n",
        "\n",
        "# Download the dataset\n",
        "download_dataset(dataset_url, save_path)\n",
        "\n",
        "# Add code to extract the contents if needed\n",
        "\n",
        "# Specify the directory where the extracted files are stored\n",
        "directory = '/content/football-repo/dataset/event_data'\n",
        "\n",
        "# Create a list of the json files from the directory\n",
        "jsonfiles = []\n",
        "for path in os.listdir(directory):\n",
        "    jsonfiles.append(os.path.join(directory, path))\n",
        "\n",
        "print(jsonfiles)"
      ]
    },
    {
      "cell_type": "code",
      "source": [
        "import zipfile\n",
        "\n",
        "# Specify the directory where the extracted files should be stored\n",
        "extracted_directory = '/content/football-repo/dataset/event_data/extracted'\n",
        "\n",
        "# Specify the path to the downloaded zip file\n",
        "zip_file_path = '/content/football-repo/dataset/event_data/events.zip'\n",
        "\n",
        "# Create the directory if it doesn't exist\n",
        "os.makedirs(extracted_directory, exist_ok=True)\n",
        "\n",
        "# Extract the contents of the zip file\n",
        "with zipfile.ZipFile(zip_file_path, 'r') as zip_ref:\n",
        "    zip_ref.extractall(extracted_directory)\n",
        "\n",
        "# Create a list of the extracted json files\n",
        "extracted_json_files = []\n",
        "for path in os.listdir(extracted_directory):\n",
        "    extracted_json_files.append(os.path.join(extracted_directory, path))\n",
        "\n",
        "print(\"List of extracted JSON files:\")\n",
        "print(extracted_json_files)"
      ],
      "metadata": {
        "colab": {
          "base_uri": "https://localhost:8080/"
        },
        "id": "CxBBF1pGViSg",
        "outputId": "7869c7bd-6870-4232-a8e1-69a2f3aa5063"
      },
      "execution_count": 11,
      "outputs": [
        {
          "output_type": "stream",
          "name": "stdout",
          "text": [
            "List of extracted JSON files:\n",
            "['/content/football-repo/dataset/event_data/extracted/events_World_Cup.json', '/content/football-repo/dataset/event_data/extracted/events_England.json', '/content/football-repo/dataset/event_data/extracted/events_European_Championship.json', '/content/football-repo/dataset/event_data/extracted/events_Spain.json', '/content/football-repo/dataset/event_data/extracted/events_France.json', '/content/football-repo/dataset/event_data/extracted/events_Germany.json', '/content/football-repo/dataset/event_data/extracted/events_Italy.json']\n"
          ]
        }
      ]
    },
    {
      "cell_type": "code",
      "source": [],
      "metadata": {
        "id": "qfH3flp-Vu-R"
      },
      "execution_count": null,
      "outputs": []
    }
  ]
}